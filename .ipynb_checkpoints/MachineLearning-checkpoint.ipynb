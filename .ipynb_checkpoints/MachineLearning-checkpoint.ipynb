{
 "cells": [
  {
   "cell_type": "markdown",
   "metadata": {},
   "source": [
    "## Importimi i librarive"
   ]
  },
  {
   "cell_type": "code",
   "execution_count": 1,
   "metadata": {},
   "outputs": [],
   "source": [
    "import string\n",
    "import numpy as np\n",
    "import pandas as pd\n",
    "import seaborn as sns\n",
    "import re\n",
    "\n",
    "from keras.preprocessing.text import Tokenizer\n",
    "from keras.preprocessing.sequence import pad_sequences\n",
    "\n",
    "from sklearn.metrics import confusion_matrix, plot_confusion_matrix, classification_report, accuracy_score\n",
    "from sklearn.utils import shuffle\n",
    "\n",
    "from keras.utils import np_utils\n",
    "from keras.utils.np_utils import to_categorical\n",
    "from sklearn.preprocessing import LabelEncoder\n",
    "from sklearn.model_selection import train_test_split\n",
    "from sklearn.tree import DecisionTreeClassifier  \n",
    "from sklearn.naive_bayes import MultinomialNB\n",
    "from sklearn.ensemble import AdaBoostClassifier, RandomForestClassifier\n",
    "from sklearn.svm import SVC\n",
    "from numpy import loadtxt\n",
    "\n",
    "import matplotlib.pyplot as plt\n",
    "\n",
    "from nltk.stem.wordnet import WordNetLemmatizer\n",
    "from nltk.tokenize import RegexpTokenizer"
   ]
  },
  {
   "cell_type": "markdown",
   "metadata": {},
   "source": [
    "## Ngarkimi i datasetit dhe përcaktimi i variablës hyrëse dhe asaj dalëse (target)"
   ]
  },
  {
   "cell_type": "code",
   "execution_count": 2,
   "metadata": {},
   "outputs": [],
   "source": [
    "data = pd.read_csv(\"Dataseti\\GrammarandProductReviews.csv\")\n",
    "\n",
    "reviews = data['reviews.text']\n",
    "y = data['reviews.didPurchase']"
   ]
  },
  {
   "cell_type": "markdown",
   "metadata": {},
   "source": [
    "## Numri i vlerave te kolones `reviews.didPurchase`"
   ]
  },
  {
   "cell_type": "code",
   "execution_count": 3,
   "metadata": {},
   "outputs": [
    {
     "data": {
      "text/html": [
       "<div>\n",
       "<style scoped>\n",
       "    .dataframe tbody tr th:only-of-type {\n",
       "        vertical-align: middle;\n",
       "    }\n",
       "\n",
       "    .dataframe tbody tr th {\n",
       "        vertical-align: top;\n",
       "    }\n",
       "\n",
       "    .dataframe thead th {\n",
       "        text-align: right;\n",
       "    }\n",
       "</style>\n",
       "<table border=\"1\" class=\"dataframe\">\n",
       "  <thead>\n",
       "    <tr style=\"text-align: right;\">\n",
       "      <th></th>\n",
       "      <th>Review Purchased</th>\n",
       "    </tr>\n",
       "  </thead>\n",
       "  <tbody>\n",
       "    <tr>\n",
       "      <th>False</th>\n",
       "      <td>28476</td>\n",
       "    </tr>\n",
       "    <tr>\n",
       "      <th>True</th>\n",
       "      <td>3682</td>\n",
       "    </tr>\n",
       "  </tbody>\n",
       "</table>\n",
       "</div>"
      ],
      "text/plain": [
       "       Review Purchased\n",
       "False             28476\n",
       "True               3682"
      ]
     },
     "execution_count": 3,
     "metadata": {},
     "output_type": "execute_result"
    }
   ],
   "source": [
    "y.value_counts().to_frame().rename(columns = {'reviews.didPurchase' : 'Review Purchased'})"
   ]
  },
  {
   "cell_type": "markdown",
   "metadata": {},
   "source": [
    "## Filtrimi i rreshtave per te cilet `reviews.didPurchase` ose `reviews.text` eshte NULL"
   ]
  },
  {
   "cell_type": "code",
   "execution_count": 4,
   "metadata": {},
   "outputs": [],
   "source": [
    "data = data[data['reviews.didPurchase'].notna()]\n",
    "data = data[data['reviews.text'].notna()]"
   ]
  },
  {
   "cell_type": "markdown",
   "metadata": {},
   "source": [
    "## Dimensionet e datasetit pas filtrimit"
   ]
  },
  {
   "cell_type": "code",
   "execution_count": 5,
   "metadata": {},
   "outputs": [
    {
     "data": {
      "text/plain": [
       "(32156, 25)"
      ]
     },
     "execution_count": 5,
     "metadata": {},
     "output_type": "execute_result"
    }
   ],
   "source": [
    "data.shape"
   ]
  },
  {
   "cell_type": "code",
   "execution_count": 6,
   "metadata": {},
   "outputs": [
    {
     "data": {
      "text/html": [
       "<div>\n",
       "<style scoped>\n",
       "    .dataframe tbody tr th:only-of-type {\n",
       "        vertical-align: middle;\n",
       "    }\n",
       "\n",
       "    .dataframe tbody tr th {\n",
       "        vertical-align: top;\n",
       "    }\n",
       "\n",
       "    .dataframe thead th {\n",
       "        text-align: right;\n",
       "    }\n",
       "</style>\n",
       "<table border=\"1\" class=\"dataframe\">\n",
       "  <thead>\n",
       "    <tr style=\"text-align: right;\">\n",
       "      <th></th>\n",
       "      <th>id</th>\n",
       "      <th>brand</th>\n",
       "      <th>categories</th>\n",
       "      <th>dateAdded</th>\n",
       "      <th>dateUpdated</th>\n",
       "      <th>ean</th>\n",
       "      <th>keys</th>\n",
       "      <th>manufacturer</th>\n",
       "      <th>manufacturerNumber</th>\n",
       "      <th>name</th>\n",
       "      <th>...</th>\n",
       "      <th>reviews.id</th>\n",
       "      <th>reviews.numHelpful</th>\n",
       "      <th>reviews.rating</th>\n",
       "      <th>reviews.sourceURLs</th>\n",
       "      <th>reviews.text</th>\n",
       "      <th>reviews.title</th>\n",
       "      <th>reviews.userCity</th>\n",
       "      <th>reviews.userProvince</th>\n",
       "      <th>reviews.username</th>\n",
       "      <th>upc</th>\n",
       "    </tr>\n",
       "  </thead>\n",
       "  <tbody>\n",
       "    <tr>\n",
       "      <th>1</th>\n",
       "      <td>AV14LG0R-jtxr-f38QfS</td>\n",
       "      <td>Lundberg</td>\n",
       "      <td>Food,Packaged Foods,Snacks,Crackers,Snacks, Co...</td>\n",
       "      <td>2017-07-25T05:16:03Z</td>\n",
       "      <td>2018-02-05T11:27:45Z</td>\n",
       "      <td>73416000391</td>\n",
       "      <td>lundbergorganiccinnamontoastricecakes/b000fvzw...</td>\n",
       "      <td>Lundberg</td>\n",
       "      <td>574764</td>\n",
       "      <td>Lundberg Organic Cinnamon Toast Rice Cakes</td>\n",
       "      <td>...</td>\n",
       "      <td>100209113.0</td>\n",
       "      <td>NaN</td>\n",
       "      <td>5</td>\n",
       "      <td>https://www.walmart.com/reviews/product/29775278</td>\n",
       "      <td>Good flavor. This review was collected as part...</td>\n",
       "      <td>Good</td>\n",
       "      <td>NaN</td>\n",
       "      <td>NaN</td>\n",
       "      <td>Dorothy W</td>\n",
       "      <td>73416000391</td>\n",
       "    </tr>\n",
       "    <tr>\n",
       "      <th>2</th>\n",
       "      <td>AV14LG0R-jtxr-f38QfS</td>\n",
       "      <td>Lundberg</td>\n",
       "      <td>Food,Packaged Foods,Snacks,Crackers,Snacks, Co...</td>\n",
       "      <td>2017-07-25T05:16:03Z</td>\n",
       "      <td>2018-02-05T11:27:45Z</td>\n",
       "      <td>73416000391</td>\n",
       "      <td>lundbergorganiccinnamontoastricecakes/b000fvzw...</td>\n",
       "      <td>Lundberg</td>\n",
       "      <td>574764</td>\n",
       "      <td>Lundberg Organic Cinnamon Toast Rice Cakes</td>\n",
       "      <td>...</td>\n",
       "      <td>100209113.0</td>\n",
       "      <td>NaN</td>\n",
       "      <td>5</td>\n",
       "      <td>https://www.walmart.com/reviews/product/29775278</td>\n",
       "      <td>Good flavor.</td>\n",
       "      <td>Good</td>\n",
       "      <td>NaN</td>\n",
       "      <td>NaN</td>\n",
       "      <td>Dorothy W</td>\n",
       "      <td>73416000391</td>\n",
       "    </tr>\n",
       "    <tr>\n",
       "      <th>3</th>\n",
       "      <td>AV16khLE-jtxr-f38VFn</td>\n",
       "      <td>K-Y</td>\n",
       "      <td>Personal Care,Medicine Cabinet,Lubricant/Sperm...</td>\n",
       "      <td>2017-07-25T16:26:19Z</td>\n",
       "      <td>2018-02-05T11:25:51Z</td>\n",
       "      <td>67981934427</td>\n",
       "      <td>kylovesensualitypleasuregel/b00u2whx8s,0679819...</td>\n",
       "      <td>K-Y</td>\n",
       "      <td>67981934427</td>\n",
       "      <td>K-Y Love Sensuality Pleasure Gel</td>\n",
       "      <td>...</td>\n",
       "      <td>113026909.0</td>\n",
       "      <td>NaN</td>\n",
       "      <td>1</td>\n",
       "      <td>https://www.walmart.com/reviews/product/43383370</td>\n",
       "      <td>I read through the reviews on here before look...</td>\n",
       "      <td>Disappointed</td>\n",
       "      <td>NaN</td>\n",
       "      <td>NaN</td>\n",
       "      <td>Rebecca</td>\n",
       "      <td>67981934427</td>\n",
       "    </tr>\n",
       "    <tr>\n",
       "      <th>4</th>\n",
       "      <td>AV16khLE-jtxr-f38VFn</td>\n",
       "      <td>K-Y</td>\n",
       "      <td>Personal Care,Medicine Cabinet,Lubricant/Sperm...</td>\n",
       "      <td>2017-07-25T16:26:19Z</td>\n",
       "      <td>2018-02-05T11:25:51Z</td>\n",
       "      <td>67981934427</td>\n",
       "      <td>kylovesensualitypleasuregel/b00u2whx8s,0679819...</td>\n",
       "      <td>K-Y</td>\n",
       "      <td>67981934427</td>\n",
       "      <td>K-Y Love Sensuality Pleasure Gel</td>\n",
       "      <td>...</td>\n",
       "      <td>171267657.0</td>\n",
       "      <td>NaN</td>\n",
       "      <td>1</td>\n",
       "      <td>https://www.walmart.com/reviews/product/43383370</td>\n",
       "      <td>My husband bought this gel for us. The gel cau...</td>\n",
       "      <td>Irritation</td>\n",
       "      <td>NaN</td>\n",
       "      <td>NaN</td>\n",
       "      <td>Walker557</td>\n",
       "      <td>67981934427</td>\n",
       "    </tr>\n",
       "    <tr>\n",
       "      <th>5</th>\n",
       "      <td>AV16khLE-jtxr-f38VFn</td>\n",
       "      <td>K-Y</td>\n",
       "      <td>Personal Care,Medicine Cabinet,Lubricant/Sperm...</td>\n",
       "      <td>2017-07-25T16:26:19Z</td>\n",
       "      <td>2018-02-05T11:25:51Z</td>\n",
       "      <td>67981934427</td>\n",
       "      <td>kylovesensualitypleasuregel/b00u2whx8s,0679819...</td>\n",
       "      <td>K-Y</td>\n",
       "      <td>67981934427</td>\n",
       "      <td>K-Y Love Sensuality Pleasure Gel</td>\n",
       "      <td>...</td>\n",
       "      <td>149773828.0</td>\n",
       "      <td>NaN</td>\n",
       "      <td>1</td>\n",
       "      <td>https://www.walmart.com/reviews/product/43383370</td>\n",
       "      <td>My boyfriend and I bought this to spice things...</td>\n",
       "      <td>Not worth it</td>\n",
       "      <td>NaN</td>\n",
       "      <td>NaN</td>\n",
       "      <td>Samantha</td>\n",
       "      <td>67981934427</td>\n",
       "    </tr>\n",
       "  </tbody>\n",
       "</table>\n",
       "<p>5 rows × 25 columns</p>\n",
       "</div>"
      ],
      "text/plain": [
       "                     id     brand  \\\n",
       "1  AV14LG0R-jtxr-f38QfS  Lundberg   \n",
       "2  AV14LG0R-jtxr-f38QfS  Lundberg   \n",
       "3  AV16khLE-jtxr-f38VFn       K-Y   \n",
       "4  AV16khLE-jtxr-f38VFn       K-Y   \n",
       "5  AV16khLE-jtxr-f38VFn       K-Y   \n",
       "\n",
       "                                          categories             dateAdded  \\\n",
       "1  Food,Packaged Foods,Snacks,Crackers,Snacks, Co...  2017-07-25T05:16:03Z   \n",
       "2  Food,Packaged Foods,Snacks,Crackers,Snacks, Co...  2017-07-25T05:16:03Z   \n",
       "3  Personal Care,Medicine Cabinet,Lubricant/Sperm...  2017-07-25T16:26:19Z   \n",
       "4  Personal Care,Medicine Cabinet,Lubricant/Sperm...  2017-07-25T16:26:19Z   \n",
       "5  Personal Care,Medicine Cabinet,Lubricant/Sperm...  2017-07-25T16:26:19Z   \n",
       "\n",
       "            dateUpdated          ean  \\\n",
       "1  2018-02-05T11:27:45Z  73416000391   \n",
       "2  2018-02-05T11:27:45Z  73416000391   \n",
       "3  2018-02-05T11:25:51Z  67981934427   \n",
       "4  2018-02-05T11:25:51Z  67981934427   \n",
       "5  2018-02-05T11:25:51Z  67981934427   \n",
       "\n",
       "                                                keys manufacturer  \\\n",
       "1  lundbergorganiccinnamontoastricecakes/b000fvzw...     Lundberg   \n",
       "2  lundbergorganiccinnamontoastricecakes/b000fvzw...     Lundberg   \n",
       "3  kylovesensualitypleasuregel/b00u2whx8s,0679819...          K-Y   \n",
       "4  kylovesensualitypleasuregel/b00u2whx8s,0679819...          K-Y   \n",
       "5  kylovesensualitypleasuregel/b00u2whx8s,0679819...          K-Y   \n",
       "\n",
       "  manufacturerNumber                                        name  ...  \\\n",
       "1             574764  Lundberg Organic Cinnamon Toast Rice Cakes  ...   \n",
       "2             574764  Lundberg Organic Cinnamon Toast Rice Cakes  ...   \n",
       "3        67981934427            K-Y Love Sensuality Pleasure Gel  ...   \n",
       "4        67981934427            K-Y Love Sensuality Pleasure Gel  ...   \n",
       "5        67981934427            K-Y Love Sensuality Pleasure Gel  ...   \n",
       "\n",
       "    reviews.id reviews.numHelpful reviews.rating  \\\n",
       "1  100209113.0                NaN              5   \n",
       "2  100209113.0                NaN              5   \n",
       "3  113026909.0                NaN              1   \n",
       "4  171267657.0                NaN              1   \n",
       "5  149773828.0                NaN              1   \n",
       "\n",
       "                                 reviews.sourceURLs  \\\n",
       "1  https://www.walmart.com/reviews/product/29775278   \n",
       "2  https://www.walmart.com/reviews/product/29775278   \n",
       "3  https://www.walmart.com/reviews/product/43383370   \n",
       "4  https://www.walmart.com/reviews/product/43383370   \n",
       "5  https://www.walmart.com/reviews/product/43383370   \n",
       "\n",
       "                                        reviews.text  reviews.title  \\\n",
       "1  Good flavor. This review was collected as part...           Good   \n",
       "2                                       Good flavor.           Good   \n",
       "3  I read through the reviews on here before look...   Disappointed   \n",
       "4  My husband bought this gel for us. The gel cau...     Irritation   \n",
       "5  My boyfriend and I bought this to spice things...   Not worth it   \n",
       "\n",
       "   reviews.userCity  reviews.userProvince reviews.username          upc  \n",
       "1               NaN                   NaN        Dorothy W  73416000391  \n",
       "2               NaN                   NaN        Dorothy W  73416000391  \n",
       "3               NaN                   NaN          Rebecca  67981934427  \n",
       "4               NaN                   NaN        Walker557  67981934427  \n",
       "5               NaN                   NaN         Samantha  67981934427  \n",
       "\n",
       "[5 rows x 25 columns]"
      ]
     },
     "execution_count": 6,
     "metadata": {},
     "output_type": "execute_result"
    }
   ],
   "source": [
    "data.head()"
   ]
  },
  {
   "cell_type": "markdown",
   "metadata": {},
   "source": [
    "## Kontrollimi per vlerat NULL te kolonave `reviews.didPurchase`"
   ]
  },
  {
   "cell_type": "code",
   "execution_count": 7,
   "metadata": {},
   "outputs": [
    {
     "data": {
      "text/plain": [
       "0"
      ]
     },
     "execution_count": 7,
     "metadata": {},
     "output_type": "execute_result"
    }
   ],
   "source": [
    "data['reviews.didPurchase'].isnull().sum()"
   ]
  },
  {
   "cell_type": "markdown",
   "metadata": {},
   "source": [
    "## Kontrollimi per vlerat NULL te kolonave `reviews.text`"
   ]
  },
  {
   "cell_type": "code",
   "execution_count": 8,
   "metadata": {},
   "outputs": [
    {
     "data": {
      "text/plain": [
       "0"
      ]
     },
     "execution_count": 8,
     "metadata": {},
     "output_type": "execute_result"
    }
   ],
   "source": [
    "data['reviews.text'].isnull().sum()"
   ]
  },
  {
   "cell_type": "markdown",
   "metadata": {},
   "source": [
    "## Percaktimi i variables hyrese dhe asaj dalese (target)"
   ]
  },
  {
   "cell_type": "code",
   "execution_count": 9,
   "metadata": {},
   "outputs": [],
   "source": [
    "reviews = data['reviews.text']\n",
    "y = data['reviews.didPurchase']"
   ]
  },
  {
   "cell_type": "markdown",
   "metadata": {},
   "source": [
    "## Numri i produkteve te cilat jane blere dhe numri i atyre qe nuk jane blere"
   ]
  },
  {
   "cell_type": "code",
   "execution_count": 44,
   "metadata": {},
   "outputs": [
    {
     "data": {
      "text/plain": [
       "False    28474\n",
       "True      3682\n",
       "Name: reviews.didPurchase, dtype: int64"
      ]
     },
     "execution_count": 44,
     "metadata": {},
     "output_type": "execute_result"
    }
   ],
   "source": [
    "y.value_counts()"
   ]
  },
  {
   "cell_type": "markdown",
   "metadata": {},
   "source": [
    "## Vendosja e teksteve (reviews.text) në një listë të vetme"
   ]
  },
  {
   "cell_type": "code",
   "execution_count": 45,
   "metadata": {},
   "outputs": [],
   "source": [
    "docs = []  ## <class 'list'>\n",
    "for sen in reviews:\n",
    "    docs.append(sen)\n"
   ]
  },
  {
   "cell_type": "markdown",
   "metadata": {},
   "source": [
    "### Preprocesimi"
   ]
  },
  {
   "cell_type": "code",
   "execution_count": 46,
   "metadata": {},
   "outputs": [],
   "source": [
    "stop_words = set(line.strip() for line in open('stopwords.txt'))\n",
    "exclude = set(string.punctuation) \n",
    "def docs_preprocessor(docs):\n",
    "    tokenizer = RegexpTokenizer(r'\\w+')\n",
    "    for idx in range(len(docs)):\n",
    "        docs[idx] = docs[idx].lower()  # Convert to lowercase.\n",
    "        docs[idx] = tokenizer.tokenize(docs[idx])  # Split into words.\n",
    "    # Remove numbers, but not words that contain numbers.\n",
    "    docs = [[token for token in doc if not token.isdigit()] for doc in docs]\n",
    "    #Remove stop words in documents\n",
    "    docs = [[token for token in doc if not token in stop_words] for doc in docs]\n",
    "    #Remove punctuations in documents\n",
    "    docs = [[token for token in doc if not token in exclude] for doc in docs]\n",
    "    # Remove words that are only one character.\n",
    "    docs = [[token for token in doc if len(token) > 2] for doc in docs]\n",
    "    \n",
    "    # Lemmatize all words in documents.\n",
    "    lemmatizer = WordNetLemmatizer()\n",
    "    docs = [[lemmatizer.lemmatize(token) for token in doc] for doc in docs]\n",
    "  \n",
    "    return docs\n",
    "# Perform function on our document\n",
    "documents = docs_preprocessor(docs)"
   ]
  },
  {
   "cell_type": "markdown",
   "metadata": {},
   "source": [
    "## Enkodimi i variables dalese - `reviews.didPurchase`"
   ]
  },
  {
   "cell_type": "code",
   "execution_count": 47,
   "metadata": {
    "scrolled": true
   },
   "outputs": [
    {
     "data": {
      "text/plain": [
       "array([[0., 1.],\n",
       "       [0., 1.],\n",
       "       [1., 0.],\n",
       "       ...,\n",
       "       [1., 0.],\n",
       "       [1., 0.],\n",
       "       [1., 0.]], dtype=float32)"
      ]
     },
     "execution_count": 47,
     "metadata": {},
     "output_type": "execute_result"
    }
   ],
   "source": [
    "encoder = LabelEncoder()\n",
    "encoder.fit(y)\n",
    "encoded_y = encoder.transform(y)\n",
    "\n",
    "# convert integers to dummy variables (i.e. one hot encoded)\n",
    "dummy_y = np_utils.to_categorical(encoded_y)\n",
    "dummy_y"
   ]
  },
  {
   "cell_type": "markdown",
   "metadata": {},
   "source": [
    "## Vendosja e fjaleve ne varg, dhe shoqerimi i seciles fjale me nje numer-indeks"
   ]
  },
  {
   "cell_type": "code",
   "execution_count": 48,
   "metadata": {},
   "outputs": [
    {
     "name": "stdout",
     "output_type": "stream",
     "text": [
      "U gjetën 16023 tokena unik.\n"
     ]
    }
   ],
   "source": [
    "tokenizer = Tokenizer(nb_words=16000, lower=True )\n",
    "\n",
    "tokenizer.fit_on_texts(documents)\n",
    "\n",
    "sequences = tokenizer.texts_to_sequences(documents)\n",
    "\n",
    "word_index = tokenizer.word_index\n",
    "\n",
    "print('U gjetën %s tokena unik.' % len(word_index))\n",
    "\n",
    "# convert text to sequence of tokens and pad them to ensure equal length vectors \n",
    "x = pad_sequences(sequences, maxlen=15)"
   ]
  },
  {
   "cell_type": "markdown",
   "metadata": {},
   "source": [
    "## Ndarja e të dhënave në trajnuese dhe testuese"
   ]
  },
  {
   "cell_type": "code",
   "execution_count": 49,
   "metadata": {},
   "outputs": [],
   "source": [
    "seed = 20\n",
    " \n",
    "x_train, x_test, y_train, y_test = train_test_split(x, encoded_y, \ttrain_size=0.8, random_state=seed)"
   ]
  },
  {
   "cell_type": "code",
   "execution_count": 50,
   "metadata": {},
   "outputs": [
    {
     "name": "stdout",
     "output_type": "stream",
     "text": [
      "\n",
      "Results from Decision Tree\n",
      "\n",
      "              precision    recall  f1-score   support\n",
      "\n",
      "           0     0.9040    0.8981    0.9011      5683\n",
      "           1     0.2634    0.2764    0.2697       749\n",
      "\n",
      "    accuracy                         0.8257      6432\n",
      "   macro avg     0.5837    0.5872    0.5854      6432\n",
      "weighted avg     0.8294    0.8257    0.8275      6432\n",
      "\n",
      "DT accuracy: 0.8257151741293532\n"
     ]
    },
    {
     "data": {
      "image/png": "[encoded data removed]",
      "text/plain": [
       "<Figure size 432x288 with 2 Axes>"
      ]
     },
     "metadata": {
      "needs_background": "light"
     },
     "output_type": "display_data"
    }
   ],
   "source": [
    "print(\"\\nResults from Decision Tree\\n\")\n",
    "\n",
    "clf_DT = DecisionTreeClassifier() \n",
    " \n",
    "clf_DT.fit(x_train, y_train)\n",
    "\n",
    "accuracy=clf_DT.score(x_test, y_test)\n",
    "\n",
    "y_pred = clf_DT.predict(x_test)\n",
    "\n",
    "# print(confusion_matrix(y_test, y_pred))  \n",
    "plot_confusion_matrix(clf_DT, x_test, y_test) \n",
    "\n",
    "print(classification_report(y_test, y_pred,digits=4))\n",
    "   \n",
    "print(\"DT accuracy:\", accuracy)"
   ]
  },
  {
   "cell_type": "code",
   "execution_count": 51,
   "metadata": {},
   "outputs": [
    {
     "name": "stdout",
     "output_type": "stream",
     "text": [
      "\n",
      "Results from Naive Bayes\n",
      "\n",
      "              precision    recall  f1-score   support\n",
      "\n",
      "           0     0.9407    0.7090    0.8085      5683\n",
      "           1     0.2303    0.6609    0.3416       749\n",
      "\n",
      "    accuracy                         0.7034      6432\n",
      "   macro avg     0.5855    0.6849    0.5751      6432\n",
      "weighted avg     0.8580    0.7034    0.7542      6432\n",
      "\n",
      "NB accuracy: 0.7033582089552238\n"
     ]
    },
    {
     "data": {
      "image/png": "[encoded data removed]",
      "text/plain": [
       "<Figure size 432x288 with 2 Axes>"
      ]
     },
     "metadata": {
      "needs_background": "light"
     },
     "output_type": "display_data"
    }
   ],
   "source": [
    "print(\"\\nResults from Naive Bayes\\n\")\n",
    "\n",
    "clf_NB = MultinomialNB() \n",
    " \n",
    "clf_NB.fit(x_train, y_train)\n",
    "\n",
    "accuracy=clf_NB.score(x_test, y_test)\n",
    "\n",
    "y_pred = clf_NB.predict(x_test)\n",
    "\n",
    "# print(confusion_matrix(y_test, y_pred))  \n",
    "plot_confusion_matrix(clf_NB, x_test, y_test) \n",
    "\n",
    "print(classification_report(y_test, y_pred, digits=4)) \n",
    "  \n",
    "print(\"NB accuracy:\", accuracy)\n"
   ]
  },
  {
   "cell_type": "code",
   "execution_count": 52,
   "metadata": {},
   "outputs": [
    {
     "name": "stdout",
     "output_type": "stream",
     "text": [
      "\n",
      "Results from Boosting\n",
      "\n",
      "              precision    recall  f1-score   support\n",
      "\n",
      "           0     0.8914    0.9861    0.9363      5683\n",
      "           1     0.4552    0.0881    0.1477       749\n",
      "\n",
      "    accuracy                         0.8815      6432\n",
      "   macro avg     0.6733    0.5371    0.5420      6432\n",
      "weighted avg     0.8406    0.8815    0.8445      6432\n",
      "\n",
      "AdaBoost accuracy: 0.8815298507462687\n"
     ]
    },
    {
     "data": {
      "image/png": "[encoded data removed]",
      "text/plain": [
       "<Figure size 432x288 with 2 Axes>"
      ]
     },
     "metadata": {
      "needs_background": "light"
     },
     "output_type": "display_data"
    }
   ],
   "source": [
    "print(\"\\nResults from Boosting\\n\")\n",
    "\n",
    "clf_Ada = AdaBoostClassifier()\n",
    " \n",
    "clf_Ada.fit(x_train, y_train)\n",
    "\n",
    "accuracy=clf_Ada.score(x_test, y_test)\n",
    "\n",
    "y_pred = clf_Ada.predict(x_test)\n",
    "\n",
    "# print(confusion_matrix(y_test, y_pred))  \n",
    "plot_confusion_matrix(clf_Ada, x_test, y_test) \n",
    "\n",
    "print(classification_report(y_test, y_pred, digits=4)) \n",
    "  \n",
    "print(\"AdaBoost accuracy:\", accuracy)"
   ]
  },
  {
   "cell_type": "code",
   "execution_count": 53,
   "metadata": {},
   "outputs": [
    {
     "name": "stdout",
     "output_type": "stream",
     "text": [
      "\n",
      "Results from Random Forest\n",
      "\n",
      "              precision    recall  f1-score   support\n",
      "\n",
      "           0     0.8944    0.9870    0.9384      5683\n",
      "           1     0.5404    0.1162    0.1912       749\n",
      "\n",
      "    accuracy                         0.8856      6432\n",
      "   macro avg     0.7174    0.5516    0.5648      6432\n",
      "weighted avg     0.8532    0.8856    0.8514      6432\n",
      "\n",
      "Random Forest accuracy: 0.8855721393034826\n"
     ]
    },
    {
     "data": {
      "image/png": "[encoded data removed]",
      "text/plain": [
       "<Figure size 432x288 with 2 Axes>"
      ]
     },
     "metadata": {
      "needs_background": "light"
     },
     "output_type": "display_data"
    }
   ],
   "source": [
    "print(\"\\nResults from Random Forest\\n\")\n",
    "\n",
    "from sklearn.ensemble import RandomForestRegressor\n",
    "\n",
    "clf_RF = RandomForestClassifier(max_depth=200, random_state=0)\n",
    " \n",
    "clf_RF.fit(x_train, y_train)\n",
    "\n",
    "accuracy=clf_RF.score(x_test, y_test)\n",
    "\n",
    "y_pred = clf_RF.predict(x_test)\n",
    "\n",
    "# print(confusion_matrix(y_test, y_pred))  \n",
    "plot_confusion_matrix(clf_RF, x_test, y_test) \n",
    "\n",
    "print(classification_report(y_test, y_pred, digits=4)) \n",
    "  \n",
    "print(\"Random Forest accuracy:\", accuracy)"
   ]
  },
  {
   "cell_type": "code",
   "execution_count": 54,
   "metadata": {},
   "outputs": [
    {
     "data": {
      "text/plain": [
       "array([1])"
      ]
     },
     "execution_count": 54,
     "metadata": {},
     "output_type": "execute_result"
    }
   ],
   "source": [
    "fjalia_prej_inputit = [\"good flavor !! review. collected promotion\"]\n",
    "fjalia_e_procesuar = docs_preprocessor(fjalia_prej_inputit)\n",
    "\n",
    "instance = tokenizer.texts_to_sequences(fjalia_e_procesuar)\n",
    "\n",
    "flat_list = []\n",
    "for sublist in instance:\n",
    "    for item in sublist:\n",
    "        flat_list.append(item)\n",
    "\n",
    "flat_list = [flat_list]\n",
    "\n",
    "instance = pad_sequences(flat_list, maxlen=15)\n",
    "\n",
    "clf_DT.predict(instance)"
   ]
  },
  {
   "cell_type": "code",
   "execution_count": 55,
   "metadata": {},
   "outputs": [],
   "source": [
    "def prediction_string(text, alg):\n",
    "    if alg == \"NB\":\n",
    "\n",
    "        y_pred = clf_NB.predict(text)\n",
    "\n",
    "        return y_pred\n",
    "\n",
    "    elif alg == \"RF\":\n",
    "        \n",
    "        y_pred = clf_RF.predict(text)\n",
    "        \n",
    "        return y_pred\n",
    "\n",
    "    elif alg == \"AdaBoost\":\n",
    "        \n",
    "        y_pred = clf_Ada.predict(text)\n",
    "\n",
    "        return y_pred\n",
    "\n",
    "    elif alg == \"DT\":\n",
    "        \n",
    "        y_pred = clf_DT.predict(text)\n",
    "        \n",
    "        return y_pred"
   ]
  },
  {
   "cell_type": "code",
   "execution_count": 56,
   "metadata": {},
   "outputs": [
    {
     "name": "stdout",
     "output_type": "stream",
     "text": [
      "[1]\n"
     ]
    }
   ],
   "source": [
    "print(prediction_string(instance, \"DT\"))"
   ]
  },
  {
   "cell_type": "code",
   "execution_count": null,
   "metadata": {},
   "outputs": [],
   "source": []
  }
 ],
 "metadata": {
  "kernelspec": {
   "display_name": "Python 3",
   "language": "python",
   "name": "python3"
  },
  "language_info": {
   "codemirror_mode": {
    "name": "ipython",
    "version": 3
   },
   "file_extension": ".py",
   "mimetype": "text/x-python",
   "name": "python",
   "nbconvert_exporter": "python",
   "pygments_lexer": "ipython3",
   "version": "3.7.6"
  }
 },
 "nbformat": 4,
 "nbformat_minor": 4
}
