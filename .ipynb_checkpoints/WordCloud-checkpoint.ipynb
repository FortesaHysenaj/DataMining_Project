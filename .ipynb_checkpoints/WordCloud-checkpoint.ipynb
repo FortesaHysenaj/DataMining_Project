{
 "cells": [
  {
   "cell_type": "code",
   "execution_count": 1,
   "metadata": {},
   "outputs": [],
   "source": [
    "import pandas as pd\n",
    "import matplotlib.pyplot as plt\n",
    "from wordcloud import WordCloud, ImageColorGenerator, STOPWORDS\n",
    "import numpy as np\n",
    "\n",
    "import seaborn as sns\n",
    "from os import path\n",
    "from PIL import Image"
   ]
  },
  {
   "cell_type": "code",
   "execution_count": 2,
   "metadata": {},
   "outputs": [],
   "source": [
    "data = pd.read_csv(\"Dataseti\\GrammarandProductReviews.csv\")"
   ]
  },
  {
   "cell_type": "code",
   "execution_count": 3,
   "metadata": {},
   "outputs": [],
   "source": [
    "data = data[data['reviews.didPurchase'].notna()]\n",
    "data = data[data['reviews.text'].notna()]"
   ]
  },
  {
   "cell_type": "code",
   "execution_count": 4,
   "metadata": {},
   "outputs": [],
   "source": [
    "reviews = data['reviews.text']\n",
    "y = data['reviews.didPurchase']"
   ]
  },
  {
   "cell_type": "code",
   "execution_count": null,
   "metadata": {},
   "outputs": [],
   "source": [
    "text = data['reviews.text']\n",
    "reviews = []\n",
    "for i in range(len(text)):\n",
    "    reviews.append(str(text.get(i)))\n",
    "\n",
    "reviewText = \"\"\n",
    "\n",
    "for i in range(len(reviews)):\n",
    "    reviewText = \" \".join(reviews)"
   ]
  },
  {
   "cell_type": "code",
   "execution_count": null,
   "metadata": {},
   "outputs": [],
   "source": [
    "wordcloud = WordCloud(width=800, height=500, max_words=100, background_color=\"black\", min_word_length=5).generate(reviewText)\n",
    "\n",
    "fig=plt.figure(figsize=(8, 5))\n",
    "plt.axis(\"off\")\n",
    "plt.imshow(wordcloud, interpolation='bilinear')\n",
    "plt.show()\n",
    "\n",
    "wordcloud.to_file(\"wordcloud.jpeg\")"
   ]
  },
  {
   "cell_type": "code",
   "execution_count": null,
   "metadata": {},
   "outputs": [],
   "source": [
    "# create a dictionary of word frequencies\n",
    "text_dictionary = wordcloud.process_text(reviewText)\n",
    "\n",
    "# sort the dictionary\n",
    "word_freq={k: v for k, v in sorted(text_dictionary.items(),reverse=True, key=lambda item: item[1])}\n",
    "\n",
    "#use words_ to print relative word frequencies\n",
    "rel_freq=wordcloud.words_\n",
    "\n",
    "#print results\n",
    "# print(list(word_freq.items())[:10])\n",
    "pd.DataFrame({'frequency':rel_freq}).sort_values('frequency',ascending=False).head(10)"
   ]
  },
  {
   "cell_type": "code",
   "execution_count": null,
   "metadata": {
    "scrolled": false
   },
   "outputs": [],
   "source": [
    "data = data.rename(columns = {'reviews.didPurchase': 'a'}, inplace = False)\n",
    "\n",
    "dataset_0 = data.query('a == False')\n",
    "dataset_1 = data.query('a == True')\n",
    "\n",
    "text_0 = str(dataset_0['reviews.text'])\n",
    "text_1 = str(dataset_1['reviews.text'])\n",
    "\n",
    "wordcloud_0 = WordCloud(width=800, height=500, background_color = \"black\", min_word_length=5).generate(text_0)\n",
    "\n",
    "wordcloud_1 = WordCloud(width=800, height=500, background_color = \"black\", min_word_length=5).generate(text_1)\n",
    "\n",
    "plt.axis(\"off\")\n",
    "plt.imshow(wordcloud_0, interpolation = 'bilinear')\n",
    "plt.show()\n",
    "wordcloud_0.to_file(\"wordcloud_0.jpeg\")\n",
    "\n",
    "plt.axis(\"off\")\n",
    "plt.imshow(wordcloud_1, interpolation = 'bilinear')\n",
    "plt.show()\n",
    "wordcloud_1.to_file(\"wordcloud_1.jpeg\")"
   ]
  },
  {
   "cell_type": "code",
   "execution_count": null,
   "metadata": {},
   "outputs": [],
   "source": [
    "stopwords = set(STOPWORDS)\n",
    "text = \" \".join(str(review) for review in data['reviews.title'])\n",
    "\n",
    "wordcloud = WordCloud(stopwords=stopwords, background_color=\"black\", max_words=100, min_word_length=5).generate(text)\n",
    "\n",
    "# visualize the image\n",
    "fig=plt.figure(figsize=(8, 5))\n",
    "plt.imshow(wordcloud, interpolation='bilinear')\n",
    "plt.axis(\"off\")\n",
    "plt.title('Reviews Most Common Words')\n",
    "plt.show()\n",
    "\n",
    "wordcloud.to_file(\"reviewTitle.jpeg\")"
   ]
  },
  {
   "cell_type": "code",
   "execution_count": null,
   "metadata": {},
   "outputs": [],
   "source": []
  }
 ],
 "metadata": {
  "kernelspec": {
   "display_name": "Python 3",
   "language": "python",
   "name": "python3"
  },
  "language_info": {
   "codemirror_mode": {
    "name": "ipython",
    "version": 3
   },
   "file_extension": ".py",
   "mimetype": "text/x-python",
   "name": "python",
   "nbconvert_exporter": "python",
   "pygments_lexer": "ipython3",
   "version": "3.7.6"
  }
 },
 "nbformat": 4,
 "nbformat_minor": 4
}
